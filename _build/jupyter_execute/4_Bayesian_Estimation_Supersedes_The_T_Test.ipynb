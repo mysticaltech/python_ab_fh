{
 "cells": [
  {
   "cell_type": "markdown",
   "metadata": {},
   "source": [
    "# 4. Significance Testing for Continuous Metrics (Bayesian Approach)"
   ]
  },
  {
   "cell_type": "markdown",
   "metadata": {},
   "source": [
    "This chapter will discuss a method described by [Kruschke (2013)](https://pdfs.semanticscholar.org/dea6/0927efbd1f284b4132eae3461ea7ce0fb62a.pdf) known as BEST (Bayesian Estimation Supersedes the T-test), which uses pre-determined model parameters in conjunction with our known (posterior) data to generate credible posterior distributions using Markov Chain Monte-Carlo simulations with pymc3. This method is the Bayesian equivalent to the t-test and provides some of the outputs previously discussed that frequentist statistics fail to provide. So this may may be your preferred method for explaining the results of your experiment to your stakeholders, if you are working with continuous data. \n",
    "\n",
    "When performing BEST analysis, we must set some pre-determined model parameters, using a distribution for our priors that best suites/explains our posterior (known) data. Note that in both this example and methods conducted by Kruschke, data are described by a Student-t distribution. Although this is not always appropriate, utilising a t-distribution can be more informative than a normal distribution, as it describes data as pertaining a tail; which is often the case with continuous metrics extrapolated from web data (that is “super users” often exist). It is worth pointing out that you may want to tweak the following code if this does not apply to your data:\n",
    "\n",
    "![](t_vs_normal.png)\n",
    "\n",
    "To describe a [Student-t distribution](https://en.wikipedia.org/wiki/Student%27s_t-distribution), you need both mean μ (normal distribution) and standard deviation σ (uniform distribution) inputs. You will also need to specify the degree of freedom ν, which follows a shifted exponential distribution. The normality of the data is mediated by ν. If ν => 30, then the computed distribution is close to a normal distribution; therefore the value of 1/29 is used as a normality threshold.\n",
    "\n",
    "All of this information will be input below, this image from Kruschke may help you visualise the model parameters and how they inform our posterior distributions:\n",
    "\n",
    "![](model_best.png)\n",
    "\n",
    "\n",
    "But first - import necessary packages for analysis (are you bored of me saying thise yet?):"
   ]
  },
  {
   "cell_type": "code",
   "execution_count": 1,
   "metadata": {},
   "outputs": [],
   "source": [
    "import pandas as pd\n",
    "import requests\n",
    "import numpy as np\n",
    "import pymc3 as pm\n",
    "import scipy.stats as stat\n",
    "import seaborn as sb\n",
    "import matplotlib.pyplot as plt\n",
    "%matplotlib inline\n",
    "from IPython.core.pylabtools import figsize\n",
    "import theano.tensor as tt\n",
    "from scipy.stats.mstats import mquantiles\n",
    "import statistics"
   ]
  },
  {
   "cell_type": "markdown",
   "metadata": {},
   "source": [
    "Import your browser level data (each row will represent a unique id or cookie id):"
   ]
  },
  {
   "cell_type": "code",
   "execution_count": 2,
   "metadata": {},
   "outputs": [
    {
     "data": {
      "text/html": [
       "<div>\n",
       "<style scoped>\n",
       "    .dataframe tbody tr th:only-of-type {\n",
       "        vertical-align: middle;\n",
       "    }\n",
       "\n",
       "    .dataframe tbody tr th {\n",
       "        vertical-align: top;\n",
       "    }\n",
       "\n",
       "    .dataframe thead th {\n",
       "        text-align: right;\n",
       "    }\n",
       "</style>\n",
       "<table border=\"1\" class=\"dataframe\">\n",
       "  <thead>\n",
       "    <tr style=\"text-align: right;\">\n",
       "      <th></th>\n",
       "      <th>unique_cookie_id</th>\n",
       "      <th>Variant</th>\n",
       "      <th>Pvs_per_session</th>\n",
       "    </tr>\n",
       "  </thead>\n",
       "  <tbody>\n",
       "    <tr>\n",
       "      <th>0</th>\n",
       "      <td>##kdjdsvbnkdf</td>\n",
       "      <td>Control_Matrix</td>\n",
       "      <td>2.343523</td>\n",
       "    </tr>\n",
       "    <tr>\n",
       "      <th>1</th>\n",
       "      <td>kldvnlkaefv</td>\n",
       "      <td>Control_Matrix</td>\n",
       "      <td>1.234300</td>\n",
       "    </tr>\n",
       "    <tr>\n",
       "      <th>2</th>\n",
       "      <td>nvaljkdfnvkld4798</td>\n",
       "      <td>Control_Matrix</td>\n",
       "      <td>3.353000</td>\n",
       "    </tr>\n",
       "    <tr>\n",
       "      <th>3</th>\n",
       "      <td>shanuf9v354###nkas</td>\n",
       "      <td>Control_Matrix</td>\n",
       "      <td>3.319751</td>\n",
       "    </tr>\n",
       "    <tr>\n",
       "      <th>4</th>\n",
       "      <td>nbncjkbd</td>\n",
       "      <td>Control_Matrix</td>\n",
       "      <td>3.824490</td>\n",
       "    </tr>\n",
       "    <tr>\n",
       "      <th>...</th>\n",
       "      <td>...</td>\n",
       "      <td>...</td>\n",
       "      <td>...</td>\n",
       "    </tr>\n",
       "    <tr>\n",
       "      <th>95</th>\n",
       "      <td>dkvhjdk844</td>\n",
       "      <td>Control_Matrix</td>\n",
       "      <td>8.367136</td>\n",
       "    </tr>\n",
       "    <tr>\n",
       "      <th>96</th>\n",
       "      <td>sjhkjfhbdwjkv</td>\n",
       "      <td>Control_Matrix</td>\n",
       "      <td>8.871875</td>\n",
       "    </tr>\n",
       "    <tr>\n",
       "      <th>97</th>\n",
       "      <td>kldvnlkaefv</td>\n",
       "      <td>Control_Matrix</td>\n",
       "      <td>9.376613</td>\n",
       "    </tr>\n",
       "    <tr>\n",
       "      <th>98</th>\n",
       "      <td>nvaljkdfnvkld4805</td>\n",
       "      <td>Control_Matrix</td>\n",
       "      <td>9.881352</td>\n",
       "    </tr>\n",
       "    <tr>\n",
       "      <th>99</th>\n",
       "      <td>shanuf9v361</td>\n",
       "      <td>Variant_BT</td>\n",
       "      <td>3.153445</td>\n",
       "    </tr>\n",
       "  </tbody>\n",
       "</table>\n",
       "<p>100 rows × 3 columns</p>\n",
       "</div>"
      ],
      "text/plain": [
       "      unique_cookie_id         Variant  Pvs_per_session\n",
       "0        ##kdjdsvbnkdf  Control_Matrix         2.343523\n",
       "1          kldvnlkaefv  Control_Matrix         1.234300\n",
       "2    nvaljkdfnvkld4798  Control_Matrix         3.353000\n",
       "3   shanuf9v354###nkas  Control_Matrix         3.319751\n",
       "4             nbncjkbd  Control_Matrix         3.824490\n",
       "..                 ...             ...              ...\n",
       "95          dkvhjdk844  Control_Matrix         8.367136\n",
       "96       sjhkjfhbdwjkv  Control_Matrix         8.871875\n",
       "97         kldvnlkaefv  Control_Matrix         9.376613\n",
       "98   nvaljkdfnvkld4805  Control_Matrix         9.881352\n",
       "99         shanuf9v361      Variant_BT         3.153445\n",
       "\n",
       "[100 rows x 3 columns]"
      ]
     },
     "execution_count": 2,
     "metadata": {},
     "output_type": "execute_result"
    }
   ],
   "source": [
    "local = 'keanu_df.xlsx'\n",
    "df = pd.read_excel(local)\n",
    "df.head(100)"
   ]
  },
  {
   "cell_type": "markdown",
   "metadata": {},
   "source": [
    "You may want to group by count to ensure you have equally weighted experimental groups, in order to ascertain you have grouped/collected the data correctly:"
   ]
  },
  {
   "cell_type": "code",
   "execution_count": 3,
   "metadata": {},
   "outputs": [
    {
     "data": {
      "text/html": [
       "<div>\n",
       "<style scoped>\n",
       "    .dataframe tbody tr th:only-of-type {\n",
       "        vertical-align: middle;\n",
       "    }\n",
       "\n",
       "    .dataframe tbody tr th {\n",
       "        vertical-align: top;\n",
       "    }\n",
       "\n",
       "    .dataframe thead th {\n",
       "        text-align: right;\n",
       "    }\n",
       "</style>\n",
       "<table border=\"1\" class=\"dataframe\">\n",
       "  <thead>\n",
       "    <tr style=\"text-align: right;\">\n",
       "      <th></th>\n",
       "      <th>unique_cookie_id</th>\n",
       "      <th>Pvs_per_session</th>\n",
       "    </tr>\n",
       "    <tr>\n",
       "      <th>Variant</th>\n",
       "      <th></th>\n",
       "      <th></th>\n",
       "    </tr>\n",
       "  </thead>\n",
       "  <tbody>\n",
       "    <tr>\n",
       "      <th>Control_Matrix</th>\n",
       "      <td>99</td>\n",
       "      <td>99</td>\n",
       "    </tr>\n",
       "    <tr>\n",
       "      <th>Variant_BT</th>\n",
       "      <td>100</td>\n",
       "      <td>100</td>\n",
       "    </tr>\n",
       "  </tbody>\n",
       "</table>\n",
       "</div>"
      ],
      "text/plain": [
       "                unique_cookie_id  Pvs_per_session\n",
       "Variant                                          \n",
       "Control_Matrix                99               99\n",
       "Variant_BT                   100              100"
      ]
     },
     "execution_count": 3,
     "metadata": {},
     "output_type": "execute_result"
    }
   ],
   "source": [
    "df.groupby(['Variant']).count()"
   ]
  },
  {
   "cell_type": "markdown",
   "metadata": {},
   "source": [
    "You can now check the overall mean values for the Pvs_per_session metric:"
   ]
  },
  {
   "cell_type": "code",
   "execution_count": 4,
   "metadata": {},
   "outputs": [
    {
     "data": {
      "text/html": [
       "<div>\n",
       "<style scoped>\n",
       "    .dataframe tbody tr th:only-of-type {\n",
       "        vertical-align: middle;\n",
       "    }\n",
       "\n",
       "    .dataframe tbody tr th {\n",
       "        vertical-align: top;\n",
       "    }\n",
       "\n",
       "    .dataframe thead th {\n",
       "        text-align: right;\n",
       "    }\n",
       "</style>\n",
       "<table border=\"1\" class=\"dataframe\">\n",
       "  <thead>\n",
       "    <tr style=\"text-align: right;\">\n",
       "      <th></th>\n",
       "      <th>Pvs_per_session</th>\n",
       "    </tr>\n",
       "    <tr>\n",
       "      <th>Variant</th>\n",
       "      <th></th>\n",
       "    </tr>\n",
       "  </thead>\n",
       "  <tbody>\n",
       "    <tr>\n",
       "      <th>Control_Matrix</th>\n",
       "      <td>5.726181</td>\n",
       "    </tr>\n",
       "    <tr>\n",
       "      <th>Variant_BT</th>\n",
       "      <td>7.670531</td>\n",
       "    </tr>\n",
       "  </tbody>\n",
       "</table>\n",
       "</div>"
      ],
      "text/plain": [
       "                Pvs_per_session\n",
       "Variant                        \n",
       "Control_Matrix         5.726181\n",
       "Variant_BT             7.670531"
      ]
     },
     "execution_count": 4,
     "metadata": {},
     "output_type": "execute_result"
    }
   ],
   "source": [
    "df.groupby(['Variant']).mean()"
   ]
  },
  {
   "cell_type": "markdown",
   "metadata": {},
   "source": [
    "## Cleaning data - Remove Outliers"
   ]
  },
  {
   "cell_type": "markdown",
   "metadata": {},
   "source": [
    "Here we will look to remove data + 3 standard deviations from the mean for Pvs_per_session; this is a scientific standard and alligns with stats engines from numerous online A/B testing platforms. First identify the standard deviation for Pvs_per_session:"
   ]
  },
  {
   "cell_type": "code",
   "execution_count": 5,
   "metadata": {},
   "outputs": [
    {
     "name": "stdout",
     "output_type": "stream",
     "text": [
      "Standard deviation of experiment metric is 3.0591\n"
     ]
    }
   ],
   "source": [
    "std = statistics.stdev(df.Pvs_per_session)\n",
    "print (\"Standard deviation of experiment metric is % s\"\n",
    "    % round(std,4))"
   ]
  },
  {
   "cell_type": "markdown",
   "metadata": {},
   "source": [
    "Identify data > 3 standard deviations:"
   ]
  },
  {
   "cell_type": "code",
   "execution_count": 6,
   "metadata": {},
   "outputs": [
    {
     "name": "stdout",
     "output_type": "stream",
     "text": [
      "Remove data from data-frame that is 9.1774 above the mean of the data\n"
     ]
    }
   ],
   "source": [
    "outliers = 3 * std\n",
    "\n",
    "print(\"Remove data from data-frame that is % s above the mean of the data\"\n",
    "     % round(outliers,4))"
   ]
  },
  {
   "cell_type": "markdown",
   "metadata": {},
   "source": [
    "New data-frame that omits this range and look at new computed means:"
   ]
  },
  {
   "cell_type": "code",
   "execution_count": 7,
   "metadata": {},
   "outputs": [
    {
     "data": {
      "text/html": [
       "<div>\n",
       "<style scoped>\n",
       "    .dataframe tbody tr th:only-of-type {\n",
       "        vertical-align: middle;\n",
       "    }\n",
       "\n",
       "    .dataframe tbody tr th {\n",
       "        vertical-align: top;\n",
       "    }\n",
       "\n",
       "    .dataframe thead th {\n",
       "        text-align: right;\n",
       "    }\n",
       "</style>\n",
       "<table border=\"1\" class=\"dataframe\">\n",
       "  <thead>\n",
       "    <tr style=\"text-align: right;\">\n",
       "      <th></th>\n",
       "      <th>Pvs_per_session</th>\n",
       "    </tr>\n",
       "    <tr>\n",
       "      <th>Variant</th>\n",
       "      <th></th>\n",
       "    </tr>\n",
       "  </thead>\n",
       "  <tbody>\n",
       "    <tr>\n",
       "      <th>Control_Matrix</th>\n",
       "      <td>5.338705</td>\n",
       "    </tr>\n",
       "    <tr>\n",
       "      <th>Variant_BT</th>\n",
       "      <td>5.465452</td>\n",
       "    </tr>\n",
       "  </tbody>\n",
       "</table>\n",
       "</div>"
      ],
      "text/plain": [
       "                Pvs_per_session\n",
       "Variant                        \n",
       "Control_Matrix         5.338705\n",
       "Variant_BT             5.465452"
      ]
     },
     "execution_count": 7,
     "metadata": {},
     "output_type": "execute_result"
    }
   ],
   "source": [
    "df_filtered = df[(df['Pvs_per_session'] <  outliers)]\n",
    "df_filtered.groupby(['Variant']).mean()"
   ]
  },
  {
   "cell_type": "markdown",
   "metadata": {},
   "source": [
    "Create seperate frames for variants:"
   ]
  },
  {
   "cell_type": "code",
   "execution_count": 8,
   "metadata": {},
   "outputs": [],
   "source": [
    "Control_Matrix = df_filtered[(df_filtered['Variant'] == 'Control_Matrix')]\n",
    "Variant_BT = df_filtered[(df_filtered['Variant'] == 'Variant_BT')]"
   ]
  },
  {
   "cell_type": "markdown",
   "metadata": {},
   "source": [
    "Set the pooled mean and standard deviation and degrees of freedom parameters:"
   ]
  },
  {
   "cell_type": "code",
   "execution_count": 9,
   "metadata": {},
   "outputs": [],
   "source": [
    "pooled_mean = np.r_[Control_Matrix.Pvs_per_session, Variant_BT.Pvs_per_session].mean()\n",
    "pooled_std = np.r_[Control_Matrix.Pvs_per_session, Variant_BT.Pvs_per_session].std()\n",
    "variance = 2 * pooled_std"
   ]
  },
  {
   "cell_type": "markdown",
   "metadata": {},
   "source": [
    "Fit the model into your data and run the MCMC simulations to calculate a series of posterior distributions:"
   ]
  },
  {
   "cell_type": "code",
   "execution_count": 10,
   "metadata": {},
   "outputs": [],
   "source": [
    "with pm.Model() as model_1:\n",
    "    mu_A = pm.Normal(\"mu_A\", pooled_mean, sd = variance)\n",
    "    mu_B = pm.Normal(\"mu_B\", pooled_mean, sd = variance)\n",
    "    std_A = pm.Uniform(\"std_A\", 1/100, 100)\n",
    "    std_B = pm.Uniform(\"std_B\", 1/100, 100)\n",
    "    nu_minus_1 = pm.Exponential(\"nu-1\", 1.0/29)"
   ]
  },
  {
   "cell_type": "code",
   "execution_count": 11,
   "metadata": {},
   "outputs": [
    {
     "data": {
      "text/html": [
       "\n",
       "<div>\n",
       "    <style>\n",
       "        /* Turns off some styling */\n",
       "        progress {\n",
       "            /* gets rid of default border in Firefox and Opera. */\n",
       "            border: none;\n",
       "            /* Needs to be in here for Safari polyfill so background images work as expected. */\n",
       "            background-size: auto;\n",
       "        }\n",
       "        .progress-bar-interrupted, .progress-bar-interrupted::-webkit-progress-bar {\n",
       "            background: #F44336;\n",
       "        }\n",
       "    </style>\n",
       "  <progress value='17' class='' max='17' style='width:300px; height:20px; vertical-align: middle;'></progress>\n",
       "  100.00% [17/17 00:00<00:00 logp = -347.92, ||grad|| = 0.72963]\n",
       "</div>\n"
      ],
      "text/plain": [
       "<IPython.core.display.HTML object>"
      ]
     },
     "metadata": {},
     "output_type": "display_data"
    },
    {
     "name": "stdout",
     "output_type": "stream",
     "text": [
      "\n"
     ]
    },
    {
     "name": "stderr",
     "output_type": "stream",
     "text": [
      "Multiprocess sampling (4 chains in 4 jobs)\n"
     ]
    },
    {
     "name": "stderr",
     "output_type": "stream",
     "text": [
      "CompoundStep\n"
     ]
    },
    {
     "name": "stderr",
     "output_type": "stream",
     "text": [
      ">Metropolis: [nu-1]\n"
     ]
    },
    {
     "name": "stderr",
     "output_type": "stream",
     "text": [
      ">Metropolis: [std_B]\n"
     ]
    },
    {
     "name": "stderr",
     "output_type": "stream",
     "text": [
      ">Metropolis: [std_A]\n"
     ]
    },
    {
     "name": "stderr",
     "output_type": "stream",
     "text": [
      ">Metropolis: [mu_B]\n"
     ]
    },
    {
     "name": "stderr",
     "output_type": "stream",
     "text": [
      ">Metropolis: [mu_A]\n"
     ]
    },
    {
     "data": {
      "text/html": [
       "\n",
       "<div>\n",
       "    <style>\n",
       "        /* Turns off some styling */\n",
       "        progress {\n",
       "            /* gets rid of default border in Firefox and Opera. */\n",
       "            border: none;\n",
       "            /* Needs to be in here for Safari polyfill so background images work as expected. */\n",
       "            background-size: auto;\n",
       "        }\n",
       "        .progress-bar-interrupted, .progress-bar-interrupted::-webkit-progress-bar {\n",
       "            background: #F44336;\n",
       "        }\n",
       "    </style>\n",
       "  <progress value='96473' class='' max='104000' style='width:300px; height:20px; vertical-align: middle;'></progress>\n",
       "  92.76% [96473/104000 00:15<00:01 Sampling 4 chains, 0 divergences]\n",
       "</div>\n"
      ],
      "text/plain": [
       "<IPython.core.display.HTML object>"
      ]
     },
     "metadata": {},
     "output_type": "display_data"
    }
   ],
   "source": [
    "with model_1:\n",
    "    obs_A = pm.StudentT(\"obs_A\", mu = mu_A, lam = 1.0/std_A**2, nu = nu_minus_1+1, observed = Control_Matrix.Pvs_per_session)\n",
    "    obs_B = pm.StudentT(\"obs_B\", mu = mu_B, lam = 1.0/std_B**2, nu = nu_minus_1+1, observed = Variant_BT.Pvs_per_session)\n",
    "    start = pm.find_MAP()\n",
    "    step = pm.Metropolis(vars=[mu_A, mu_B, std_A, std_B, nu_minus_1])\n",
    "    trace_1 = pm.sample(25000, step=step)\n",
    "    burned_trace_1 = trace_1[10000:]"
   ]
  },
  {
   "cell_type": "markdown",
   "metadata": {},
   "source": [
    "You can now visualise the posterior distribution of the group means:"
   ]
  },
  {
   "cell_type": "code",
   "execution_count": 64,
   "metadata": {},
   "outputs": [
    {
     "data": {
      "image/png": "[encoded data removed]",
      "text/plain": [
       "<Figure size 900x288 with 1 Axes>"
      ]
     },
     "metadata": {
      "filenames": {
       "image/png": "/Users/frankhopkins/Desktop/ab_testing_python/_build/jupyter_execute/4_Bayesian_Estimation_Supersedes_The_T_Test_24_0.png"
      },
      "needs_background": "light"
     },
     "output_type": "display_data"
    }
   ],
   "source": [
    "figsize(12.5, 4)\n",
    "control_mean = burned_trace_1['mu_A']\n",
    "variant_mean = burned_trace_1['mu_B']\n",
    "plt.hist(control_mean, bins = 100, label=r'Posterior distribution of $\\mu_{Control_Matrix}$', color = 'grey')\n",
    "plt.hist(variant_mean, bins = 100, label=r'Posterior distribution of $\\mu_{Variant_BT}$', color = 'orange')\n",
    "plt.title('Posterior distributions for each respective group mean')\n",
    "plt.legend()\n",
    "plt.show()"
   ]
  },
  {
   "cell_type": "markdown",
   "metadata": {},
   "source": [
    "And, standard deviations:"
   ]
  },
  {
   "cell_type": "code",
   "execution_count": 65,
   "metadata": {},
   "outputs": [
    {
     "data": {
      "image/png": "[encoded data removed]",
      "text/plain": [
       "<Figure size 900x288 with 1 Axes>"
      ]
     },
     "metadata": {
      "filenames": {
       "image/png": "/Users/frankhopkins/Desktop/ab_testing_python/_build/jupyter_execute/4_Bayesian_Estimation_Supersedes_The_T_Test_26_0.png"
      },
      "needs_background": "light"
     },
     "output_type": "display_data"
    }
   ],
   "source": [
    "figsize(12.5, 4)\n",
    "control_std = burned_trace_1['mu_A']\n",
    "variant_std = burned_trace_1['mu_B']\n",
    "plt.hist(control_std, bins = 100, label=r'Posterior distribution of $\\sigma_{Control_Matrix}$', color = 'grey')\n",
    "plt.hist(variant_std, bins = 100, label=r'Posterior distribution of $\\sigma_{Variant_BT}$',  color = 'orange')\n",
    "plt.title('Posterior distributions of  standard derivation derived from PyMC3')\n",
    "plt.legend()\n",
    "plt.show()"
   ]
  },
  {
   "cell_type": "markdown",
   "metadata": {},
   "source": [
    "You can now plot the posterior distribution for the difference between groups. We have red lines that represent our highest density intervals (HDI), which encompasses the points with the greatest probability density (that is the samples that are more likely than that outside the parameters passed). Although not to be confused with confidence intervals, this 95% interval can be adjusted to any given range specifided. Secondly, we have our region of practical equivalence (ROPE), which is a pre-determined range of sampled differences between experimental groups. This value will likely be determined by stakeholders and/or analysts beforehand and will be a value we look to exceed. To achieve this we would want the entire ROPE range to fall outside our 95% HDI as this is where the highest probability outcomes exist:"
   ]
  },
  {
   "cell_type": "code",
   "execution_count": 66,
   "metadata": {},
   "outputs": [
    {
     "name": "stderr",
     "output_type": "stream",
     "text": [
      "/opt/anaconda3/lib/python3.8/site-packages/arviz/stats/stats.py:337: UserWarning: hpd will be deprecated Please replace hdi\n",
      "  warnings.warn(\n"
     ]
    },
    {
     "data": {
      "image/png": "[encoded data removed]",
      "text/plain": [
       "<Figure size 900x288 with 1 Axes>"
      ]
     },
     "metadata": {
      "filenames": {
       "image/png": "/Users/frankhopkins/Desktop/ab_testing_python/_build/jupyter_execute/4_Bayesian_Estimation_Supersedes_The_T_Test_28_1.png"
      },
      "needs_background": "light"
     },
     "output_type": "display_data"
    }
   ],
   "source": [
    "figsize(12.5, 4)\n",
    "\n",
    "difference = variant_mean - control_mean # Difference of the means\n",
    "\n",
    "\n",
    "hdi = pm.stats.hpd(difference, hdi_prob = 0.95) # The 95% HDI interval of the difference\n",
    "\n",
    "\n",
    "rope = [-0.5, 0] #the ROPE region \n",
    "\n",
    "\n",
    "plt.hist(difference, bins=100, density=True, label='Differene of means', color = 'orange')\n",
    "plt.title('Posterior distribution of the the difference of the means')\n",
    "plt.vlines(hdi[0], 0,1, linestyle = '--', color='red', label='HDI')\n",
    "plt.vlines(hdi[1], 0, 1, linestyle = '--', color='red')\n",
    "plt.vlines(rope[0], 0, 1, linestyle = '--', color='black', label='ROPE')\n",
    "plt.vlines(rope[1], 0, 1, linestyle = '--', color='black')\n",
    "plt.title('Posterior distribution of the the difference of mean for Metric 1')\n",
    "plt.legend(loc='upper right')\n",
    "plt.show()"
   ]
  },
  {
   "cell_type": "markdown",
   "metadata": {},
   "source": [
    "Finally, we can plot the posterior distribution for the relative difference between experimental conditions:"
   ]
  },
  {
   "cell_type": "code",
   "execution_count": 70,
   "metadata": {},
   "outputs": [
    {
     "name": "stdout",
     "output_type": "stream",
     "text": [
      "The probability that the variant performed 1% greater than the control is: 58.13%\n"
     ]
    },
    {
     "data": {
      "image/png": "[encoded data removed]",
      "text/plain": [
       "<Figure size 900x288 with 1 Axes>"
      ]
     },
     "metadata": {
      "filenames": {
       "image/png": "/Users/frankhopkins/Desktop/ab_testing_python/_build/jupyter_execute/4_Bayesian_Estimation_Supersedes_The_T_Test_30_1.png"
      },
      "needs_background": "light"
     },
     "output_type": "display_data"
    }
   ],
   "source": [
    "figsize(12.5, 4)\n",
    "\n",
    "rel_difference = 100 * (variant_mean-control_mean)/variant_mean # Relative difference of the means\n",
    "\n",
    "prob=len(rel_difference[rel_difference > 1])/len(rel_difference)\n",
    "plt.hist(rel_difference, bins = 100, density = True, label='Relative differene of the mean metric', color = 'orange')\n",
    "plt.title('Posterior distribution of the the relative difference of mean values')\n",
    "plt.vlines(1, 0,0.5, linestyle='--', color = 'red', label='HDI')\n",
    "print(f\"The probability that the variant performed 1% greater than the control is: {round(prob*100,2)}%\")\n",
    "plt.show()"
   ]
  },
  {
   "cell_type": "markdown",
   "metadata": {},
   "source": [
    "You can see here the probability that the variant beat the control by a certain threshold. It can be determined that there is a ~58% probability that the variant is 1% greater than the baseline. This would be deemed a flat result as the odds the variant performed better is only just greater than a coin flip. This threshold can be changed to whatever is practically important to your stakeholders/wider team, which is both invaluable in a commercial setting and unattainable using frequentist methods.\n",
    "\n",
    "\n",
    "In the next chapter, we will be looking at methods to reduce variance prior to post-hoc testing, these methods can increase experiment sensitivity/power; meaning you can conclude experiments at a greater velocity."
   ]
  }
 ],
 "metadata": {
  "kernelspec": {
   "display_name": "Python 3",
   "language": "python",
   "name": "python3"
  },
  "language_info": {
   "codemirror_mode": {
    "name": "ipython",
    "version": 3
   },
   "file_extension": ".py",
   "mimetype": "text/x-python",
   "name": "python",
   "nbconvert_exporter": "python",
   "pygments_lexer": "ipython3",
   "version": "3.8.3"
  }
 },
 "nbformat": 4,
 "nbformat_minor": 4
}