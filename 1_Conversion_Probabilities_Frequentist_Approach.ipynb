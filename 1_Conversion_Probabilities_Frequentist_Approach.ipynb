{
 "cells": [
  {
   "cell_type": "markdown",
   "metadata": {},
   "source": [
    "# 1. Conversion Probabilities (Frequentist Approach)"
   ]
  },
  {
   "cell_type": "markdown",
   "metadata": {},
   "source": [
    "On your site, you may want to determine the proportion of users that clicked a certain widget or element on the page. Furthermore, you may have recently conducted an experiment whereby a new version of said widget/element has been changed and you want to compare its performance to your control (current) widget. This is when you will want to perform a statistical test to determine whether a statistically significant difference between groups exists.\n",
    "\n",
    "As this notebook focuses on a frequentist approach to significance testing, you will hopefully have performed power analyses prior your experiment, in order to determine an adequate enough sample size to pause your experiment. If you have not done so, I have previously developed code in R, that enables you to determine how much of a sample (per variant) is required to reach a statistically conclusive result: \n",
    "\n",
    "[Sample-size Calculation in R - Code (Frank Hopkins, 2020)](https://towardsdatascience.com/ab-sample-size-calculation-in-r-ad959a4443a2)\n",
    "\n",
    "Here you can specify your current conversion probability and your desired uplift (minimum detectable change).\n",
    "\n",
    "This approach is broken down into absolute and relative differences, respectively and was adapted from the introduction to A/B Testing course by Udacity. This method uses confidence intervals to determine whether or not to reject your null hypothesis. This is achieved by calculating a pooled standard error of your two groups (which is the pooled probability of a click divided by the pooled sameple of the groups) and the difference between the predicted probability conversions for each group.\n",
    "\n",
    "For sake of this analysis and subsequent work books. We are going compare the results of an A/B Test I have made up whereby we are testing two different widget images to promote a Keanu Reaves boxset on www.abtestnostalgicfilms.com (this is not a real website). Major stakeholders at abtestnostalgic films are worred that the image of Keanu in Bill and Ted will not be with familar younger audiences, so are running an A/B test to measure the impact on performance. People in this experiment will be evenly distributed into two variants where they will see one of two images in the promotion:\n",
    "\n",
    "![](keanu_comp.png)\n",
    "\n",
    "\n",
    "Now, lets get into it.\n",
    "\n",
    "Your first going to want to import all the relevant packages for analysis:"
   ]
  },
  {
   "cell_type": "code",
   "execution_count": 1,
   "metadata": {},
   "outputs": [],
   "source": [
    "import math as mt\n",
    "import numpy as np\n",
    "import pandas as pd\n",
    "import seaborn as sb\n",
    "from scipy.stats import norm\n",
    "import matplotlib.pyplot as plt"
   ]
  },
  {
   "cell_type": "markdown",
   "metadata": {},
   "source": [
    "## Absolute differences"
   ]
  },
  {
   "cell_type": "markdown",
   "metadata": {},
   "source": [
    "You're now going to want to insert the number of unique browsers/users that were in each bucket of your experiment:"
   ]
  },
  {
   "cell_type": "code",
   "execution_count": 6,
   "metadata": {},
   "outputs": [],
   "source": [
    "n_control = 164246\n",
    "\n",
    "n_variant = 174904"
   ]
  },
  {
   "cell_type": "markdown",
   "metadata": {},
   "source": [
    "Now, input the number of unique events fired in each bucket. Using the example given above, this will be the number of unique clicks on your old and new widget/element:"
   ]
  },
  {
   "cell_type": "code",
   "execution_count": 7,
   "metadata": {},
   "outputs": [],
   "source": [
    "e_control = 7883\n",
    "\n",
    "e_variant = 10348"
   ]
  },
  {
   "cell_type": "markdown",
   "metadata": {},
   "source": [
    "You can now create a pandas data-frame that contains this information and calculates the conversion probabilities of each respective experimental condition:"
   ]
  },
  {
   "cell_type": "code",
   "execution_count": 9,
   "metadata": {},
   "outputs": [
    {
     "name": "stdout",
     "output_type": "stream",
     "text": [
      "                        variant  n_users  n_events  p_conversion\n",
      "0  Control (Keanu - The Matrix)   164246      7883        0.0480\n",
      "1       Variant (Keanu - B & T)   174904     10348        0.0592\n"
     ]
    }
   ],
   "source": [
    "data = {'variant':  ['Control (Keanu - The Matrix)', 'Variant (Keanu - B & T)'],\n",
    "        'n_users': [n_control, n_variant],\n",
    "        'n_events': [e_control, e_variant],\n",
    "        }\n",
    "\n",
    "experiment_df = pd.DataFrame(data)\n",
    "\n",
    "experiment_df['p_conversion'] = round(experiment_df['n_events'] / experiment_df['n_users'], 4,)\n",
    "\n",
    "print(experiment_df)"
   ]
  },
  {
   "cell_type": "markdown",
   "metadata": {},
   "source": [
    "For a more user/stake-holder friendly representation, you can present these probabilities as %s:"
   ]
  },
  {
   "cell_type": "code",
   "execution_count": 12,
   "metadata": {},
   "outputs": [
    {
     "name": "stdout",
     "output_type": "stream",
     "text": [
      "The conversion probability of the Control (Keanu - The Matrix) group is 4.7995 %\n",
      "The conversion probability of the Variant (Keanu - B & T) group is 5.9164 %\n"
     ]
    }
   ],
   "source": [
    "p_control = e_control/n_control\n",
    "\n",
    "p_variant = e_variant/n_variant\n",
    "\n",
    "print(\"The conversion probability of the Control (Keanu - The Matrix) group is\",round(100 * p_control,4),\"%\")\n",
    "print(\"The conversion probability of the Variant (Keanu - B & T) group is\",round(100 * p_variant,4),\"%\")"
   ]
  },
  {
   "cell_type": "markdown",
   "metadata": {},
   "source": [
    "Next, you need to calculate the combined/pooled conversion probability:"
   ]
  },
  {
   "cell_type": "code",
   "execution_count": 13,
   "metadata": {},
   "outputs": [
    {
     "name": "stdout",
     "output_type": "stream",
     "text": [
      "The combined conversion probability is 5.3755 %\n"
     ]
    }
   ],
   "source": [
    "p_pooled = (e_control + e_variant)/(n_control + n_variant)\n",
    "\n",
    "print(\"The combined conversion probability is\", round(100 * p_pooled,4),\"%\")"
   ]
  },
  {
   "cell_type": "markdown",
   "metadata": {},
   "source": [
    "And, the pooled standard error:"
   ]
  },
  {
   "cell_type": "code",
   "execution_count": 14,
   "metadata": {},
   "outputs": [
    {
     "name": "stdout",
     "output_type": "stream",
     "text": [
      "The pooled standard deviation/error is 0.0775 %\n"
     ]
    }
   ],
   "source": [
    "sd_pooled = mt.sqrt((p_pooled * (1 - p_pooled)) * (1/n_control + 1/n_variant))\n",
    "\n",
    "print(\"The pooled standard deviation/error is\",round(100 * sd_pooled,4),\"%\")"
   ]
  },
  {
   "cell_type": "markdown",
   "metadata": {},
   "source": [
    "You can now calculate the estimated absolute difference between conversion probabilities:"
   ]
  },
  {
   "cell_type": "code",
   "execution_count": 15,
   "metadata": {},
   "outputs": [
    {
     "name": "stdout",
     "output_type": "stream",
     "text": [
      "The estimated difference is 1.1169 %\n"
     ]
    }
   ],
   "source": [
    "e_diff = p_variant - p_control\n",
    "\n",
    "print(\"The estimated difference is\",round(100 * e_diff,4),\"%\")"
   ]
  },
  {
   "cell_type": "markdown",
   "metadata": {},
   "source": [
    "Below you can set your pre-experiment parameters. You can set your significance threshold (alpha) and select the corresponding z-score (this will be then used for computation below. You can also set a pratical significance threshold, which is the absolute difference that is relevant to this experiment in its commercial context (this value should be pre-determined before your experiment is conducted): "
   ]
  },
  {
   "cell_type": "code",
   "execution_count": 16,
   "metadata": {},
   "outputs": [],
   "source": [
    "alpha = 0.05\n",
    "\n",
    "## Z score 0.9\n",
    "\n",
    "z_90 = 1.645\n",
    "\n",
    "## Z score 0.95\n",
    "\n",
    "z_95 = 1.96\n",
    "\n",
    "## Z score 0.99\n",
    "\n",
    "z_99 = 2.576\n",
    "\n",
    "# Practical significance\n",
    "\n",
    "prac_sig = 0.005"
   ]
  },
  {
   "cell_type": "markdown",
   "metadata": {},
   "source": [
    "Based on the parameters you have set above, you can now calculate the pooled margin of error:"
   ]
  },
  {
   "cell_type": "code",
   "execution_count": 17,
   "metadata": {},
   "outputs": [
    {
     "name": "stdout",
     "output_type": "stream",
     "text": [
      "The margin of error is 0.1519 %\n"
     ]
    }
   ],
   "source": [
    "me = z_95 * (sd_pooled)\n",
    "\n",
    "print(\"The margin of error is\",round(100 * me,4),\"%\")"
   ]
  },
  {
   "cell_type": "markdown",
   "metadata": {},
   "source": [
    "You can now print the result of your experiment. The absolute difference and confidence intervals will be presented. The threshold for both statistical and practical significance is also provided:"
   ]
  },
  {
   "cell_type": "code",
   "execution_count": 18,
   "metadata": {},
   "outputs": [
    {
     "name": "stdout",
     "output_type": "stream",
     "text": [
      "The absolute change observed due to the experiment is 1.12 %\n",
      "Confidence intervals: [ 0.965 % - 1.2688 % ]\n",
      "The change is statistically significant if the CI doesn't include 0. In that case, it is practically significant if the entire confidence interval is > 0.5 % .\n"
     ]
    }
   ],
   "source": [
    "## Overall change observed\n",
    "\n",
    "print(\"The absolute change observed due to the experiment is\", round(e_diff*100,2),\"%\")\n",
    "\n",
    "## Confidence intervals\n",
    "\n",
    "print(\"Confidence intervals: [\",round(e_diff * 100 - me * 100, 4),\"%\",\"-\",round(100 * e_diff + 100 * me,4),\"%\",\"]\")\n",
    "\n",
    "## Result of the experiment\n",
    "print (\"The change is statistically significant if the CI doesn't include 0. In that case, it is practically significant if the entire confidence interval is >\",prac_sig * 100,\"%\",\".\")"
   ]
  },
  {
   "cell_type": "markdown",
   "metadata": {},
   "source": [
    "As you can see above, the experiment reached both statistical and practical significance. If you want to present a visual with the raw users, events and conversion probabilities, you can execute the following code:"
   ]
  },
  {
   "cell_type": "code",
   "execution_count": 19,
   "metadata": {},
   "outputs": [
    {
     "name": "stdout",
     "output_type": "stream",
     "text": [
      "                        variant  n_users  n_events  p_conversion\n",
      "0  Control (Keanu - The Matrix)   164246      7883        0.0480\n",
      "1       Variant (Keanu - B & T)   174904     10348        0.0592\n"
     ]
    },
    {
     "data": {
      "image/png": "[encoded data removed]",
      "text/plain": [
       "<Figure size 1080x720 with 1 Axes>"
      ]
     },
     "metadata": {
      "needs_background": "light"
     },
     "output_type": "display_data"
    }
   ],
   "source": [
    "plt.figure(figsize=(15,10))\n",
    "ax = sb.barplot(x=experiment_df['variant'], y=experiment_df['p_conversion'], ci=False)\n",
    "plt.ylim(0, 0.06)\n",
    "plt.title('Conversion probability by group', pad=20)\n",
    "plt.xlabel('Group', labelpad=15)\n",
    "plt.ylabel('Converted (proportion)', labelpad=15)\n",
    "print(experiment_df)"
   ]
  },
  {
   "cell_type": "markdown",
   "metadata": {},
   "source": [
    "## Relative differences"
   ]
  },
  {
   "cell_type": "markdown",
   "metadata": {},
   "source": [
    "First, insert the number of unique browsers/users that were in each bucket of your experiment:"
   ]
  },
  {
   "cell_type": "code",
   "execution_count": 20,
   "metadata": {},
   "outputs": [],
   "source": [
    "n_control = 164246\n",
    "\n",
    "n_variant = 174904"
   ]
  },
  {
   "cell_type": "markdown",
   "metadata": {},
   "source": [
    "Now, input the number of unique events fired in each bucket. Using the example given above, this will be the number of unique clicks on your old and new widget/element:"
   ]
  },
  {
   "cell_type": "code",
   "execution_count": 21,
   "metadata": {},
   "outputs": [],
   "source": [
    "e_control = 7883\n",
    "\n",
    "e_variant = 10348"
   ]
  },
  {
   "cell_type": "markdown",
   "metadata": {},
   "source": [
    "You can now create a pandas data-frame that contains this information and calculates the conversion probabilities of each respective experimental condition:"
   ]
  },
  {
   "cell_type": "code",
   "execution_count": 22,
   "metadata": {},
   "outputs": [
    {
     "name": "stdout",
     "output_type": "stream",
     "text": [
      "                        variant  n_users  n_events  p_conversion\n",
      "0  Control (Keanu - The Matrix)   164246      7883        0.0480\n",
      "1       Variant (Keanu - B & T)   174904     10348        0.0592\n"
     ]
    }
   ],
   "source": [
    "data = {'variant':  ['Control (Keanu - The Matrix)', 'Variant (Keanu - B & T)'],\n",
    "        'n_users': [n_control, n_variant],\n",
    "        'n_events': [e_control, e_variant],\n",
    "        }\n",
    "\n",
    "experiment_df = pd.DataFrame(data)\n",
    "\n",
    "experiment_df['p_conversion'] = round(experiment_df['n_events'] / experiment_df['n_users'], 4,)\n",
    "\n",
    "print(experiment_df)"
   ]
  },
  {
   "cell_type": "markdown",
   "metadata": {},
   "source": [
    "For a more user/stake-holder friendly representation, you can present these probabilities as %s:"
   ]
  },
  {
   "cell_type": "code",
   "execution_count": 23,
   "metadata": {},
   "outputs": [
    {
     "name": "stdout",
     "output_type": "stream",
     "text": [
      "The conversion probability of the Control (Keanu - The Matrix) group is 4.7995 %\n",
      "The conversion probability of the Variant (Keanu - B & T) group is 5.9164 %\n"
     ]
    }
   ],
   "source": [
    "p_control = e_control/n_control\n",
    "\n",
    "p_variant = e_variant/n_variant\n",
    "\n",
    "print(\"The conversion probability of the Control (Keanu - The Matrix) group is\",round(100 * p_control,4),\"%\")\n",
    "print(\"The conversion probability of the Variant (Keanu - B & T) group is\",round(100 * p_variant,4),\"%\")"
   ]
  },
  {
   "cell_type": "markdown",
   "metadata": {},
   "source": [
    "Next, you need to calculate the combined/pooled conversion probability:"
   ]
  },
  {
   "cell_type": "code",
   "execution_count": 24,
   "metadata": {},
   "outputs": [
    {
     "name": "stdout",
     "output_type": "stream",
     "text": [
      "The combined conversion probability is 5.3755 %\n"
     ]
    }
   ],
   "source": [
    "p_pooled = (e_control + e_variant)/(n_control + n_variant)\n",
    "\n",
    "print(\"The combined conversion probability is\", round(100 * p_pooled,4),\"%\")"
   ]
  },
  {
   "cell_type": "markdown",
   "metadata": {},
   "source": [
    "And, the pooled standard error:"
   ]
  },
  {
   "cell_type": "code",
   "execution_count": 25,
   "metadata": {},
   "outputs": [
    {
     "name": "stdout",
     "output_type": "stream",
     "text": [
      "The pooled standard deviation/error is 0.0775 %\n"
     ]
    }
   ],
   "source": [
    "sd_pooled = mt.sqrt((p_pooled * (1 - p_pooled)) * (1/n_control + 1/n_variant))\n",
    "\n",
    "print(\"The pooled standard deviation/error is\",round(100 * sd_pooled,4),\"%\")"
   ]
  },
  {
   "cell_type": "markdown",
   "metadata": {},
   "source": [
    "You can now calculate the estimated relative difference between conversion probabilities:"
   ]
  },
  {
   "cell_type": "code",
   "execution_count": 26,
   "metadata": {},
   "outputs": [
    {
     "name": "stdout",
     "output_type": "stream",
     "text": [
      "The estimated difference is 23.2707 %\n"
     ]
    }
   ],
   "source": [
    "e_diff = (p_variant/p_control)-1\n",
    "\n",
    "print(\"The estimated difference is\",round(100 * e_diff,4),\"%\")"
   ]
  },
  {
   "cell_type": "markdown",
   "metadata": {},
   "source": [
    "Below you can set your pre-experiment parameters. You can set your significance threshold (alpha) and select the corresponding z-score (this will be then used for computation below. You can also set a pratical significance threshold, which is the relative difference that is relevant to this experiment in its commercial context (this value should be pre-determined before your experiment is conducted):"
   ]
  },
  {
   "cell_type": "code",
   "execution_count": 27,
   "metadata": {},
   "outputs": [],
   "source": [
    "alpha = 0.05\n",
    "\n",
    "## Z score 0.9\n",
    "\n",
    "z_90 = 1.645\n",
    "\n",
    "## Z score 0.95\n",
    "\n",
    "z_95 = 1.96\n",
    "\n",
    "## Z score 0.99\n",
    "\n",
    "z_99 = 2.576\n",
    "\n",
    "# Practical significance\n",
    "\n",
    "prac_sig = 0.2"
   ]
  },
  {
   "cell_type": "code",
   "execution_count": 28,
   "metadata": {},
   "outputs": [
    {
     "name": "stdout",
     "output_type": "stream",
     "text": [
      "The absolute change observed due to the experiment is 23.27 %\n",
      "Confidence intervals: [ 23.1188 % - 23.4226 % ]\n",
      "The change is statistically significant if the CI doesn't include 0. In that case, it is practically significant if the entire confidence interval is > 20.0 % .\n"
     ]
    }
   ],
   "source": [
    "## Overall change observed\n",
    "\n",
    "print(\"The absolute change observed due to the experiment is\", round(e_diff*100,2),\"%\")\n",
    "\n",
    "## Confidence intervals\n",
    "\n",
    "print(\"Confidence intervals: [\",round(e_diff * 100 - me * 100, 4),\"%\",\"-\",round(100 * e_diff + 100 * me,4),\"%\",\"]\")\n",
    "\n",
    "## Result of the experiment\n",
    "print (\"The change is statistically significant if the CI doesn't include 0. In that case, it is practically significant if the entire confidence interval is >\",prac_sig * 100,\"%\",\".\")"
   ]
  },
  {
   "cell_type": "markdown",
   "metadata": {},
   "source": [
    "As you can see above, the experiment reached both statistical and practical significance. If you want to present a visual with the raw users, events and conversion probabilities, you can execute the following code:"
   ]
  },
  {
   "cell_type": "code",
   "execution_count": 29,
   "metadata": {},
   "outputs": [
    {
     "name": "stdout",
     "output_type": "stream",
     "text": [
      "                        variant  n_users  n_events  p_conversion\n",
      "0  Control (Keanu - The Matrix)   164246      7883        0.0480\n",
      "1       Variant (Keanu - B & T)   174904     10348        0.0592\n"
     ]
    },
    {
     "data": {
      "image/png": "[encoded data removed]",
      "text/plain": [
       "<Figure size 1080x720 with 1 Axes>"
      ]
     },
     "metadata": {
      "needs_background": "light"
     },
     "output_type": "display_data"
    }
   ],
   "source": [
    "plt.figure(figsize=(15,10))\n",
    "ax = sb.barplot(x=experiment_df['variant'], y=experiment_df['p_conversion'], ci=False)\n",
    "plt.ylim(0, 0.06)\n",
    "plt.title('Conversion probability by group', pad=20)\n",
    "plt.xlabel('Group', labelpad=15)\n",
    "plt.ylabel('Converted (proportion)', labelpad=15)\n",
    "print(experiment_df)"
   ]
  },
  {
   "cell_type": "markdown",
   "metadata": {},
   "source": [
    "The next chapter will tackle the same experiment using Bayesian methods for calculating the difference between conversion probabilities."
   ]
  }
 ],
 "metadata": {
  "kernelspec": {
   "display_name": "Python 3",
   "language": "python",
   "name": "python3"
  },
  "language_info": {
   "codemirror_mode": {
    "name": "ipython",
    "version": 3
   },
   "file_extension": ".py",
   "mimetype": "text/x-python",
   "name": "python",
   "nbconvert_exporter": "python",
   "pygments_lexer": "ipython3",
   "version": "3.8.3"
  }
 },
 "nbformat": 4,
 "nbformat_minor": 4
}
