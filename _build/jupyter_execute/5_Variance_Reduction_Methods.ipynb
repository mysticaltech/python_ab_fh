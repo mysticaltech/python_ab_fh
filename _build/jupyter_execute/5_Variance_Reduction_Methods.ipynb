{
 "cells": [
  {
   "cell_type": "markdown",
   "metadata": {},
   "source": [
    "# 5. Variance Reduction Methods"
   ]
  },
  {
   "cell_type": "markdown",
   "metadata": {},
   "source": [
    "Using a frequestist framework can come with some frustrating pitfalls. Namely, detecting statistical significance can be difficult when a large degree of variance exists within a metric.\n",
    "\n",
    "The aforementioned challenge of detecting small differences to statistical significance relates to correspondingly low statistical power. When an experiment is underpowered, statistical analysis will likely return non-significant findings between your experimental conditions, regardless of whether a true and meaningful effect actually exists. In addition, low statistical power is exhibited when the treatment effect is too small in relation to the variance of the metric that is being assessed. Given that within-group variance is often high in web-data; where both super-users and \"one-hit wonders\" exist.\n",
    "\n",
    "Despite the positive relationship that exists between sample size and experiment sensitivity, the large within-metric variance that is exhibited within our data is a constant, and thus often inhibits the detection of a statistically significant result.\n",
    "\n",
    "Luckily methods currently exist that look to use pre-experiment information to control for within metric variance, which subsequently increases the statistical power of experiments. One such method is [CUPED](https://www.researchgate.net/publication/237838291_Improving_the_Sensitivity_of_Online_Controlled_Experiments_by_Utilizing_Pre-Experiment_Data) (controlled using pre-experiment data) which relies on the removal of variance within a metric that is attributed to pre-experiment information. CUPED is implemented on the notion that variance that pre-experiment data can explain in a metric is not correlated to any effects elicited by the change in a given experiment and can therefore be omitted from analysis.\n",
    "\n",
    " It is recommended that the pre-experiment covariate (continuous metric) we are looking to integrate is the same as our primary experiment metric. This is because the increase in experiment sensitivity — achieved through a reduction in within-metric variance — is predicated on a strong correlation between the covariate and primary experiment metric, and so using the same metric is preferable. The correlation between the covariate and primary metric is then used to compute a constant (theta) that is applied to each unit (cookie_id), which is our CUPED-adjusted metric which we can then run a statistical test on:\n",
    "\n",
    "![](cuped_figure.png)\n",
    "\n",
    "The effect of this variance reduction is to achieve the hypothetical 3 below (taken from [Booking.com Data Science](https://booking.ai/how-booking-com-increases-the-power-of-online-experiments-with-cuped-995d186fff1d)):\n",
    "\n",
    "![](booking_com_cuped.png)\n",
    "\n",
    "In this Notebook we will use Pvs_per_session data collected prior to our Keanu experiment and use it to control for variance that is unrelated to the experiment itself, in order to increase the sensitivity of our statistical analysis.\n",
    "\n",
    "But first - import necessary packages for analysis (last time I promise):"
   ]
  },
  {
   "cell_type": "code",
   "execution_count": 1,
   "metadata": {},
   "outputs": [],
   "source": [
    "import pandas as pd\n",
    "import seaborn as sb\n",
    "import matplotlib as plt\n",
    "import numpy as np\n",
    "import statistics\n",
    "from scipy import stats\n",
    "import seaborn as sns\n",
    "import matplotlib.pyplot as plt\n",
    "from statsmodels.stats.multicomp import pairwise_tukeyhsd\n",
    "from statsmodels.stats.multicomp import MultiComparison\n",
    "import warnings\n",
    "import statistics\n",
    "import scipy"
   ]
  },
  {
   "cell_type": "code",
   "execution_count": 2,
   "metadata": {},
   "outputs": [],
   "source": [
    "warnings.filterwarnings(\"ignore\")"
   ]
  },
  {
   "cell_type": "markdown",
   "metadata": {},
   "source": [
    "We can now import our new data-frame that has our pre experiment Pvs_per_session. Note that you will have to do various mergers prior to importing data, to ensure that the Pvs_per_session pre experiment data is matched on the same unique id, to ensure you have data for all users:"
   ]
  },
  {
   "cell_type": "code",
   "execution_count": 3,
   "metadata": {},
   "outputs": [
    {
     "data": {
      "text/html": [
       "<div>\n",
       "<style scoped>\n",
       "    .dataframe tbody tr th:only-of-type {\n",
       "        vertical-align: middle;\n",
       "    }\n",
       "\n",
       "    .dataframe tbody tr th {\n",
       "        vertical-align: top;\n",
       "    }\n",
       "\n",
       "    .dataframe thead th {\n",
       "        text-align: right;\n",
       "    }\n",
       "</style>\n",
       "<table border=\"1\" class=\"dataframe\">\n",
       "  <thead>\n",
       "    <tr style=\"text-align: right;\">\n",
       "      <th></th>\n",
       "      <th>unique_cookie_id</th>\n",
       "      <th>Variant</th>\n",
       "      <th>Pvs_per_session</th>\n",
       "      <th>Pvs_per_session_pre_experiment</th>\n",
       "    </tr>\n",
       "  </thead>\n",
       "  <tbody>\n",
       "    <tr>\n",
       "      <th>0</th>\n",
       "      <td>##kdjdsvbnkdf</td>\n",
       "      <td>Control_Matrix</td>\n",
       "      <td>2.343523</td>\n",
       "      <td>1.728696</td>\n",
       "    </tr>\n",
       "    <tr>\n",
       "      <th>1</th>\n",
       "      <td>kldvnlkaefv</td>\n",
       "      <td>Control_Matrix</td>\n",
       "      <td>1.234300</td>\n",
       "      <td>0.910479</td>\n",
       "    </tr>\n",
       "    <tr>\n",
       "      <th>2</th>\n",
       "      <td>nvaljkdfnvkld4798</td>\n",
       "      <td>Control_Matrix</td>\n",
       "      <td>3.353000</td>\n",
       "      <td>2.473335</td>\n",
       "    </tr>\n",
       "    <tr>\n",
       "      <th>3</th>\n",
       "      <td>shanuf9v354###nkas</td>\n",
       "      <td>Control_Matrix</td>\n",
       "      <td>3.319751</td>\n",
       "      <td>2.448809</td>\n",
       "    </tr>\n",
       "    <tr>\n",
       "      <th>4</th>\n",
       "      <td>nbncjkbd</td>\n",
       "      <td>Control_Matrix</td>\n",
       "      <td>3.824490</td>\n",
       "      <td>2.821128</td>\n",
       "    </tr>\n",
       "    <tr>\n",
       "      <th>...</th>\n",
       "      <td>...</td>\n",
       "      <td>...</td>\n",
       "      <td>...</td>\n",
       "      <td>...</td>\n",
       "    </tr>\n",
       "    <tr>\n",
       "      <th>95</th>\n",
       "      <td>dkvhjdk844</td>\n",
       "      <td>Control_Matrix</td>\n",
       "      <td>8.367136</td>\n",
       "      <td>6.172004</td>\n",
       "    </tr>\n",
       "    <tr>\n",
       "      <th>96</th>\n",
       "      <td>sjhkjfhbdwjkv</td>\n",
       "      <td>Control_Matrix</td>\n",
       "      <td>8.871875</td>\n",
       "      <td>6.544323</td>\n",
       "    </tr>\n",
       "    <tr>\n",
       "      <th>97</th>\n",
       "      <td>kldvnlkaefv</td>\n",
       "      <td>Control_Matrix</td>\n",
       "      <td>9.376613</td>\n",
       "      <td>6.916643</td>\n",
       "    </tr>\n",
       "    <tr>\n",
       "      <th>98</th>\n",
       "      <td>nvaljkdfnvkld4805</td>\n",
       "      <td>Control_Matrix</td>\n",
       "      <td>9.881352</td>\n",
       "      <td>7.288962</td>\n",
       "    </tr>\n",
       "    <tr>\n",
       "      <th>99</th>\n",
       "      <td>shanuf9v361</td>\n",
       "      <td>Variant_BT</td>\n",
       "      <td>3.153445</td>\n",
       "      <td>3.346855</td>\n",
       "    </tr>\n",
       "  </tbody>\n",
       "</table>\n",
       "<p>100 rows × 4 columns</p>\n",
       "</div>"
      ],
      "text/plain": [
       "      unique_cookie_id         Variant  Pvs_per_session  \\\n",
       "0        ##kdjdsvbnkdf  Control_Matrix         2.343523   \n",
       "1          kldvnlkaefv  Control_Matrix         1.234300   \n",
       "2    nvaljkdfnvkld4798  Control_Matrix         3.353000   \n",
       "3   shanuf9v354###nkas  Control_Matrix         3.319751   \n",
       "4             nbncjkbd  Control_Matrix         3.824490   \n",
       "..                 ...             ...              ...   \n",
       "95          dkvhjdk844  Control_Matrix         8.367136   \n",
       "96       sjhkjfhbdwjkv  Control_Matrix         8.871875   \n",
       "97         kldvnlkaefv  Control_Matrix         9.376613   \n",
       "98   nvaljkdfnvkld4805  Control_Matrix         9.881352   \n",
       "99         shanuf9v361      Variant_BT         3.153445   \n",
       "\n",
       "    Pvs_per_session_pre_experiment  \n",
       "0                         1.728696  \n",
       "1                         0.910479  \n",
       "2                         2.473335  \n",
       "3                         2.448809  \n",
       "4                         2.821128  \n",
       "..                             ...  \n",
       "95                        6.172004  \n",
       "96                        6.544323  \n",
       "97                        6.916643  \n",
       "98                        7.288962  \n",
       "99                        3.346855  \n",
       "\n",
       "[100 rows x 4 columns]"
      ]
     },
     "execution_count": 3,
     "metadata": {},
     "output_type": "execute_result"
    }
   ],
   "source": [
    "local = 'keanu_df_cuped.xlsx'\n",
    "df = pd.read_excel(local)\n",
    "df.head(100)"
   ]
  },
  {
   "cell_type": "markdown",
   "metadata": {},
   "source": [
    "## CUPED-Analysis"
   ]
  },
  {
   "cell_type": "markdown",
   "metadata": {},
   "source": [
    "We can now implement our CUPED methods. Firstly, we need to calculate a constant (theta) which will be applied to each cookie_id unit. The constant we apply is the covariance exhibited between the experiment metric (exp_plays) and the pre-experiment metric (pre_exp_plays) — which we have already established has a strong positive relationship — divided by the variance of just the pre-experiment data. We can calculate this with numpy:"
   ]
  },
  {
   "cell_type": "code",
   "execution_count": 4,
   "metadata": {},
   "outputs": [
    {
     "name": "stdout",
     "output_type": "stream",
     "text": [
      "[0.48857929]\n"
     ]
    }
   ],
   "source": [
    "covariance = np.cov(df.Pvs_per_session, df.Pvs_per_session_pre_experiment)\n",
    "variance = np.cov(df.Pvs_per_session_pre_experiment)\n",
    "theta_calc = covariance / variance\n",
    "theta_calc_reshape = theta_calc.reshape(4,1)\n",
    "theta = theta_calc_reshape[1]\n",
    "print(theta)"
   ]
  },
  {
   "cell_type": "code",
   "execution_count": 5,
   "metadata": {},
   "outputs": [
    {
     "data": {
      "text/html": [
       "<div>\n",
       "<style scoped>\n",
       "    .dataframe tbody tr th:only-of-type {\n",
       "        vertical-align: middle;\n",
       "    }\n",
       "\n",
       "    .dataframe tbody tr th {\n",
       "        vertical-align: top;\n",
       "    }\n",
       "\n",
       "    .dataframe thead th {\n",
       "        text-align: right;\n",
       "    }\n",
       "</style>\n",
       "<table border=\"1\" class=\"dataframe\">\n",
       "  <thead>\n",
       "    <tr style=\"text-align: right;\">\n",
       "      <th></th>\n",
       "      <th>unique_cookie_id</th>\n",
       "      <th>Variant</th>\n",
       "      <th>Pvs_per_session</th>\n",
       "      <th>Pvs_per_session_pre_experiment</th>\n",
       "      <th>CUPED-adjusted_metric</th>\n",
       "    </tr>\n",
       "  </thead>\n",
       "  <tbody>\n",
       "    <tr>\n",
       "      <th>0</th>\n",
       "      <td>##kdjdsvbnkdf</td>\n",
       "      <td>Control_Matrix</td>\n",
       "      <td>2.343523</td>\n",
       "      <td>1.728696</td>\n",
       "      <td>3.208165</td>\n",
       "    </tr>\n",
       "    <tr>\n",
       "      <th>1</th>\n",
       "      <td>kldvnlkaefv</td>\n",
       "      <td>Control_Matrix</td>\n",
       "      <td>1.234300</td>\n",
       "      <td>0.910479</td>\n",
       "      <td>2.498705</td>\n",
       "    </tr>\n",
       "    <tr>\n",
       "      <th>2</th>\n",
       "      <td>nvaljkdfnvkld4798</td>\n",
       "      <td>Control_Matrix</td>\n",
       "      <td>3.353000</td>\n",
       "      <td>2.473335</td>\n",
       "      <td>3.853827</td>\n",
       "    </tr>\n",
       "    <tr>\n",
       "      <th>3</th>\n",
       "      <td>shanuf9v354###nkas</td>\n",
       "      <td>Control_Matrix</td>\n",
       "      <td>3.319751</td>\n",
       "      <td>2.448809</td>\n",
       "      <td>3.832561</td>\n",
       "    </tr>\n",
       "    <tr>\n",
       "      <th>4</th>\n",
       "      <td>nbncjkbd</td>\n",
       "      <td>Control_Matrix</td>\n",
       "      <td>3.824490</td>\n",
       "      <td>2.821128</td>\n",
       "      <td>4.155392</td>\n",
       "    </tr>\n",
       "  </tbody>\n",
       "</table>\n",
       "</div>"
      ],
      "text/plain": [
       "     unique_cookie_id         Variant  Pvs_per_session  \\\n",
       "0       ##kdjdsvbnkdf  Control_Matrix         2.343523   \n",
       "1         kldvnlkaefv  Control_Matrix         1.234300   \n",
       "2   nvaljkdfnvkld4798  Control_Matrix         3.353000   \n",
       "3  shanuf9v354###nkas  Control_Matrix         3.319751   \n",
       "4            nbncjkbd  Control_Matrix         3.824490   \n",
       "\n",
       "   Pvs_per_session_pre_experiment  CUPED-adjusted_metric  \n",
       "0                        1.728696               3.208165  \n",
       "1                        0.910479               2.498705  \n",
       "2                        2.473335               3.853827  \n",
       "3                        2.448809               3.832561  \n",
       "4                        2.821128               4.155392  "
      ]
     },
     "execution_count": 5,
     "metadata": {},
     "output_type": "execute_result"
    }
   ],
   "source": [
    "df['CUPED-adjusted_metric'] = df.Pvs_per_session - (df.Pvs_per_session_pre_experiment - statistics.mean(df.Pvs_per_session_pre_experiment)) * theta\n",
    "df.head()"
   ]
  },
  {
   "cell_type": "markdown",
   "metadata": {},
   "source": [
    "To get a high-level view of the metrics:"
   ]
  },
  {
   "cell_type": "code",
   "execution_count": 6,
   "metadata": {},
   "outputs": [
    {
     "data": {
      "text/html": [
       "<div>\n",
       "<style scoped>\n",
       "    .dataframe tbody tr th:only-of-type {\n",
       "        vertical-align: middle;\n",
       "    }\n",
       "\n",
       "    .dataframe tbody tr th {\n",
       "        vertical-align: top;\n",
       "    }\n",
       "\n",
       "    .dataframe thead th {\n",
       "        text-align: right;\n",
       "    }\n",
       "</style>\n",
       "<table border=\"1\" class=\"dataframe\">\n",
       "  <thead>\n",
       "    <tr style=\"text-align: right;\">\n",
       "      <th></th>\n",
       "      <th>Pvs_per_session</th>\n",
       "      <th>Pvs_per_session_pre_experiment</th>\n",
       "      <th>CUPED-adjusted_metric</th>\n",
       "    </tr>\n",
       "    <tr>\n",
       "      <th>Variant</th>\n",
       "      <th></th>\n",
       "      <th></th>\n",
       "      <th></th>\n",
       "    </tr>\n",
       "  </thead>\n",
       "  <tbody>\n",
       "    <tr>\n",
       "      <th>Control_Matrix</th>\n",
       "      <td>5.153563</td>\n",
       "      <td>3.692144</td>\n",
       "      <td>5.058905</td>\n",
       "    </tr>\n",
       "    <tr>\n",
       "      <th>Variant_BT</th>\n",
       "      <td>6.903478</td>\n",
       "      <td>3.306597</td>\n",
       "      <td>6.997190</td>\n",
       "    </tr>\n",
       "  </tbody>\n",
       "</table>\n",
       "</div>"
      ],
      "text/plain": [
       "                Pvs_per_session  Pvs_per_session_pre_experiment  \\\n",
       "Variant                                                           \n",
       "Control_Matrix         5.153563                        3.692144   \n",
       "Variant_BT             6.903478                        3.306597   \n",
       "\n",
       "                CUPED-adjusted_metric  \n",
       "Variant                                \n",
       "Control_Matrix               5.058905  \n",
       "Variant_BT                   6.997190  "
      ]
     },
     "execution_count": 6,
     "metadata": {},
     "output_type": "execute_result"
    }
   ],
   "source": [
    "df_grouped = df.groupby(['Variant']).mean()\n",
    "df_grouped"
   ]
  },
  {
   "cell_type": "markdown",
   "metadata": {},
   "source": [
    "You can now determine the relationship between the pre experiment and Pvs_per_session metric (remember the stronger the relationship, the more variance that can be omitted):"
   ]
  },
  {
   "cell_type": "code",
   "execution_count": 7,
   "metadata": {},
   "outputs": [
    {
     "data": {
      "text/plain": [
       "0.07757522952085316"
      ]
     },
     "execution_count": 7,
     "metadata": {},
     "output_type": "execute_result"
    }
   ],
   "source": [
    "def r2(x, y):\n",
    "    return stats.pearsonr(x, y)[0] ** 2\n",
    "\n",
    "r2(df.Pvs_per_session, df.Pvs_per_session_pre_experiment)"
   ]
  },
  {
   "cell_type": "markdown",
   "metadata": {},
   "source": [
    "As you can see, we have not yielded a particularly strong relationship (r^2) value between the two variables, but let's see how much variance we have controlled for: "
   ]
  },
  {
   "cell_type": "code",
   "execution_count": 8,
   "metadata": {},
   "outputs": [
    {
     "name": "stdout",
     "output_type": "stream",
     "text": [
      "The mean of the Pvs_per_session metric is 6.0329. The mean of the CUPED-adjusted metric is 6.0329.\n",
      "The standard deviation of plays per browser is 2.8469. The standard deviation of the CUPED-adjusted metric is 2.7343.\n",
      "The relative reduction in standard deviation was -3.95705 %\n"
     ]
    }
   ],
   "source": [
    "std_pvs = statistics.stdev(df.Pvs_per_session)\n",
    "std_CUPED = statistics.stdev(df['CUPED-adjusted_metric'])\n",
    "mean_pvs = statistics.mean(df.Pvs_per_session)\n",
    "mean_CUPED = statistics.mean(df['CUPED-adjusted_metric'])\n",
    "\n",
    "\n",
    "relative_pvs = std_pvs / mean_pvs\n",
    "relative_cuped = std_CUPED / mean_CUPED\n",
    "relative_diff = (relative_cuped - relative_pvs) / relative_pvs\n",
    "\n",
    "\n",
    "print(\"The mean of the Pvs_per_session metric is %s.\"\n",
    "% round(mean_pvs,4),\n",
    "\"The mean of the CUPED-adjusted metric is % s.\"\n",
    "% round(mean_CUPED,4))\n",
    "\n",
    "\n",
    "print (\"The standard deviation of plays per browser is % s.\"\n",
    "    % round(std_pvs,4),\n",
    "      \"The standard deviation of the CUPED-adjusted metric is % s.\"\n",
    "       % round(std_CUPED,4))\n",
    "\n",
    "print(\"The relative reduction in standard deviation was % s\"\n",
    "    % round(relative_diff*100,5),\"%\",)"
   ]
  },
  {
   "cell_type": "markdown",
   "metadata": {},
   "source": [
    "As you can see, we have managed to reduce the relative degree of variance (as measured by standard deviation) by ~4%; now we can perform statistical analysis on our newly computed metric, in order to determine whether there was a statistical effect or not:"
   ]
  },
  {
   "cell_type": "markdown",
   "metadata": {},
   "source": [
    "## Significance testing (post CUPED-Analysis)"
   ]
  },
  {
   "cell_type": "code",
   "execution_count": 9,
   "metadata": {},
   "outputs": [
    {
     "name": "stdout",
     "output_type": "stream",
     "text": [
      "     Multiple Comparison of Means - Tukey HSD, FWER=0.05     \n",
      "=============================================================\n",
      "    group1       group2   meandiff p-adj lower  upper  reject\n",
      "-------------------------------------------------------------\n",
      "Control_Matrix Variant_BT   1.9383 0.001 1.4338 2.4428   True\n",
      "-------------------------------------------------------------\n",
      "The mean of the Control (Matrix) group is: 5.0589\n",
      "The mean of the Variant (Bill and Ted) group is: 6.9972\n",
      "The relative uplift between exprimental conditions was 38.31 %\n",
      "Reject null hypothesis and significant difference between experimental groups: [ True]\n"
     ]
    }
   ],
   "source": [
    "mc = MultiComparison(df['CUPED-adjusted_metric'], df['Variant'])\n",
    "mc_results = mc.tukeyhsd()\n",
    "null_hypothesis = mc_results.reject\n",
    "df_grouped = df[['Variant', 'CUPED-adjusted_metric']]\n",
    "Control_Matrix = df_grouped[(df_grouped['Variant'] == 'Control_Matrix')]\n",
    "Variant_BT = df_grouped[(df_grouped['Variant'] == 'Variant_BT')]\n",
    "Mean_control = round(statistics.mean(Control_Matrix['CUPED-adjusted_metric']),4)\n",
    "Mean_variant = round(statistics.mean(Variant_BT['CUPED-adjusted_metric']),4)\n",
    "\n",
    "print(mc_results)\n",
    "print(\"The mean of the Control (Matrix) group is:\",round(statistics.mean(Control_Matrix['CUPED-adjusted_metric']),4),)\n",
    "print(\"The mean of the Variant (Bill and Ted) group is:\",round(statistics.mean(Variant_BT['CUPED-adjusted_metric']),4),)\n",
    "print(\"The relative uplift between exprimental conditions was % s\"\n",
    "      % round((Mean_variant - Mean_control) / Mean_control * 100, 2),\"%\")\n",
    "\n",
    "print(\"Reject null hypothesis and significant difference between experimental groups:\",null_hypothesis,)"
   ]
  },
  {
   "cell_type": "markdown",
   "metadata": {},
   "source": [
    "Here you can see that when we have controlled for pre-experiment information, that is unrelated to our experimental conditions, we have achieved a statistically significant effect, and our CUPED-adjusted Pvs_per_session were greater for our Variant - meaning this would be a recommendation for a permanent roll-out on www.abtestnostalgicfilms: \n",
    "\n",
    "![](Keanu_pvs_cuped.png)"
   ]
  }
 ],
 "metadata": {
  "kernelspec": {
   "display_name": "Python 3",
   "language": "python",
   "name": "python3"
  },
  "language_info": {
   "codemirror_mode": {
    "name": "ipython",
    "version": 3
   },
   "file_extension": ".py",
   "mimetype": "text/x-python",
   "name": "python",
   "nbconvert_exporter": "python",
   "pygments_lexer": "ipython3",
   "version": "3.8.3"
  }
 },
 "nbformat": 4,
 "nbformat_minor": 4
}